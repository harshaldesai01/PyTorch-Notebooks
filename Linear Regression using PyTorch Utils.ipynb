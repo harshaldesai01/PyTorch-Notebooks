{
 "cells": [
  {
   "cell_type": "markdown",
   "metadata": {},
   "source": [
    "# Linear Regression using PyTorch"
   ]
  },
  {
   "cell_type": "code",
   "execution_count": 1,
   "metadata": {},
   "outputs": [],
   "source": [
    "import torch\n",
    "import numpy as np"
   ]
  },
  {
   "cell_type": "code",
   "execution_count": 2,
   "metadata": {},
   "outputs": [],
   "source": [
    "inputs = np.array([[73, 67, 43], \n",
    "                   [91, 88, 64], \n",
    "                   [87, 134, 58], \n",
    "                   [102, 43, 37],\n",
    "                   [69, 96, 70]], dtype='float32')"
   ]
  },
  {
   "cell_type": "code",
   "execution_count": 3,
   "metadata": {},
   "outputs": [],
   "source": [
    "# Targets (apples, oranges)\n",
    "targets = np.array([[56, 70], \n",
    "                    [81, 101], \n",
    "                    [119, 133], \n",
    "                    [22, 37], \n",
    "                    [103, 119]], dtype='float32')"
   ]
  },
  {
   "cell_type": "code",
   "execution_count": 4,
   "metadata": {},
   "outputs": [
    {
     "name": "stdout",
     "output_type": "stream",
     "text": [
      "tensor([[ 73.,  67.,  43.],\n",
      "        [ 91.,  88.,  64.],\n",
      "        [ 87., 134.,  58.],\n",
      "        [102.,  43.,  37.],\n",
      "        [ 69.,  96.,  70.]])\n",
      "tensor([[ 56.,  70.],\n",
      "        [ 81., 101.],\n",
      "        [119., 133.],\n",
      "        [ 22.,  37.],\n",
      "        [103., 119.]])\n"
     ]
    }
   ],
   "source": [
    "inputs = torch.from_numpy(inputs)\n",
    "targets = torch.from_numpy(targets)\n",
    "print(inputs)\n",
    "print(targets)"
   ]
  },
  {
   "cell_type": "code",
   "execution_count": 5,
   "metadata": {},
   "outputs": [
    {
     "data": {
      "text/plain": [
       "(tensor([[-1.4290, -0.7688,  0.1079],\n",
       "         [-0.5987,  0.1824,  0.2630]], requires_grad=True),\n",
       " tensor([0.1492, 0.8500], requires_grad=True))"
      ]
     },
     "execution_count": 5,
     "metadata": {},
     "output_type": "execute_result"
    }
   ],
   "source": [
    "w = torch.randn(2, 3, requires_grad=True)\n",
    "b = torch.rand(2, requires_grad=True)\n",
    "w, b"
   ]
  },
  {
   "cell_type": "code",
   "execution_count": 6,
   "metadata": {},
   "outputs": [],
   "source": [
    "def model(x):\n",
    "    #x@w.t() +b == X x WT + b\n",
    "    return x@w.t() + b"
   ]
  },
  {
   "cell_type": "code",
   "execution_count": 7,
   "metadata": {},
   "outputs": [
    {
     "name": "stdout",
     "output_type": "stream",
     "text": [
      "tensor([[-151.0307,  -19.3205],\n",
      "        [-190.6294,  -20.7423],\n",
      "        [-220.9248,  -11.5348],\n",
      "        [-174.6674,  -42.6374],\n",
      "        [-164.6950,   -4.5345]], grad_fn=<AddBackward0>)\n"
     ]
    }
   ],
   "source": [
    "preds = model(inputs)\n",
    "print(preds)"
   ]
  },
  {
   "cell_type": "code",
   "execution_count": 8,
   "metadata": {},
   "outputs": [],
   "source": [
    "diff = preds - targets"
   ]
  },
  {
   "cell_type": "code",
   "execution_count": 9,
   "metadata": {},
   "outputs": [
    {
     "name": "stdout",
     "output_type": "stream",
     "text": [
      "tensor([[ 56.,  70.],\n",
      "        [ 81., 101.],\n",
      "        [119., 133.],\n",
      "        [ 22.,  37.],\n",
      "        [103., 119.]])\n",
      "tensor([[-207.0307,  -89.3205],\n",
      "        [-271.6294, -121.7423],\n",
      "        [-339.9248, -144.5348],\n",
      "        [-196.6674,  -79.6374],\n",
      "        [-267.6950, -123.5345]], grad_fn=<SubBackward0>)\n"
     ]
    }
   ],
   "source": [
    "print(targets)\n",
    "print(diff)"
   ]
  },
  {
   "cell_type": "code",
   "execution_count": 10,
   "metadata": {},
   "outputs": [],
   "source": [
    "#loss\n",
    "def mse(t1, t2):\n",
    "    diff = (t1-t2)\n",
    "    return torch.sum((diff*diff)) / diff.numel()"
   ]
  },
  {
   "cell_type": "code",
   "execution_count": 11,
   "metadata": {},
   "outputs": [
    {
     "name": "stdout",
     "output_type": "stream",
     "text": [
      "tensor(40782.4297, grad_fn=<DivBackward0>)\n"
     ]
    }
   ],
   "source": [
    "loss = mse(preds, targets)\n",
    "print(loss)"
   ]
  },
  {
   "cell_type": "code",
   "execution_count": 12,
   "metadata": {},
   "outputs": [],
   "source": [
    "loss.backward()"
   ]
  },
  {
   "cell_type": "code",
   "execution_count": 13,
   "metadata": {},
   "outputs": [
    {
     "data": {
      "text/plain": [
       "(tensor([[-21587.1992, -23495.9551, -14403.5156],\n",
       "         [ -9364.0723, -10269.8340,  -6321.8599]]),\n",
       " tensor([-256.5895, -111.7539]))"
      ]
     },
     "execution_count": 13,
     "metadata": {},
     "output_type": "execute_result"
    }
   ],
   "source": [
    "w.grad, b.grad"
   ]
  },
  {
   "cell_type": "code",
   "execution_count": 14,
   "metadata": {},
   "outputs": [
    {
     "data": {
      "text/plain": [
       "tensor([0., 0.])"
      ]
     },
     "execution_count": 14,
     "metadata": {},
     "output_type": "execute_result"
    }
   ],
   "source": [
    "#reset grads to 0\n",
    "w.grad.zero_()\n",
    "b.grad.zero_()"
   ]
  },
  {
   "cell_type": "code",
   "execution_count": 15,
   "metadata": {},
   "outputs": [
    {
     "name": "stdout",
     "output_type": "stream",
     "text": [
      "Loss at {}th Epoch {} 10 tensor(1220.7020, grad_fn=<DivBackward0>)\n",
      "Loss at {}th Epoch {} 20 tensor(70.5608, grad_fn=<DivBackward0>)\n",
      "Loss at {}th Epoch {} 30 tensor(43.5473, grad_fn=<DivBackward0>)\n",
      "Loss at {}th Epoch {} 40 tensor(38.7844, grad_fn=<DivBackward0>)\n",
      "Loss at {}th Epoch {} 50 tensor(34.9439, grad_fn=<DivBackward0>)\n",
      "Loss at {}th Epoch {} 60 tensor(31.5552, grad_fn=<DivBackward0>)\n",
      "Loss at {}th Epoch {} 70 tensor(28.5578, grad_fn=<DivBackward0>)\n",
      "Loss at {}th Epoch {} 80 tensor(25.9050, grad_fn=<DivBackward0>)\n",
      "Loss at {}th Epoch {} 90 tensor(23.5561, grad_fn=<DivBackward0>)\n",
      "Loss at {}th Epoch {} 100 tensor(21.4749, grad_fn=<DivBackward0>)\n",
      "Loss at {}th Epoch {} 110 tensor(19.6297, grad_fn=<DivBackward0>)\n",
      "Loss at {}th Epoch {} 120 tensor(17.9926, grad_fn=<DivBackward0>)\n",
      "Loss at {}th Epoch {} 130 tensor(16.5390, grad_fn=<DivBackward0>)\n",
      "Loss at {}th Epoch {} 140 tensor(15.2473, grad_fn=<DivBackward0>)\n",
      "Loss at {}th Epoch {} 150 tensor(14.0982, grad_fn=<DivBackward0>)\n",
      "Loss at {}th Epoch {} 160 tensor(13.0750, grad_fn=<DivBackward0>)\n",
      "Loss at {}th Epoch {} 170 tensor(12.1630, grad_fn=<DivBackward0>)\n",
      "Loss at {}th Epoch {} 180 tensor(11.3489, grad_fn=<DivBackward0>)\n",
      "Loss at {}th Epoch {} 190 tensor(10.6214, grad_fn=<DivBackward0>)\n",
      "Loss at {}th Epoch {} 200 tensor(9.9703, grad_fn=<DivBackward0>)\n"
     ]
    }
   ],
   "source": [
    "#function to train for multiple epoch\n",
    "for i in range(200):\n",
    "    #1. make predictions\n",
    "    preds = model(inputs)\n",
    "        \n",
    "    #2. calculate loss\n",
    "    loss = mse(preds, targets)\n",
    "        \n",
    "    #3. compute gradients w.r.t weights and biases\n",
    "    loss.backward()\n",
    "        \n",
    "    #4. adjust gradients by small quantity and reset gradients to 0\n",
    "    with torch.no_grad():\n",
    "        w -= 1e-5*w.grad\n",
    "        b -= 1e-5*b.grad\n",
    "        w.grad.zero_()\n",
    "        b.grad.zero_()\n",
    "    if ((i+1)%10 == 0):\n",
    "        print(\"Loss at {}th Epoch {}\", i+1, loss)"
   ]
  },
  {
   "cell_type": "code",
   "execution_count": 16,
   "metadata": {},
   "outputs": [
    {
     "name": "stdout",
     "output_type": "stream",
     "text": [
      "tensor([[ 57.7335,  71.1697],\n",
      "        [ 84.3224,  99.2737],\n",
      "        [112.9687, 134.7536],\n",
      "        [ 24.4020,  40.9864],\n",
      "        [103.6948, 114.5597]], grad_fn=<AddBackward0>) \n",
      " tensor([[ 56.,  70.],\n",
      "        [ 81., 101.],\n",
      "        [119., 133.],\n",
      "        [ 22.,  37.],\n",
      "        [103., 119.]])\n"
     ]
    }
   ],
   "source": [
    "print(preds, '\\n',targets)"
   ]
  },
  {
   "cell_type": "markdown",
   "metadata": {},
   "source": [
    "# Linear Regression using PyTorch built-ins"
   ]
  },
  {
   "cell_type": "code",
   "execution_count": 17,
   "metadata": {},
   "outputs": [],
   "source": [
    "import torch.nn as nn"
   ]
  },
  {
   "cell_type": "code",
   "execution_count": 18,
   "metadata": {},
   "outputs": [],
   "source": [
    "# Input (temp, rainfall, humidity)\n",
    "inputs = np.array([[73, 67, 43], [91, 88, 64], [87, 134, 58], \n",
    "                   [102, 43, 37], [69, 96, 70], [73, 67, 43], \n",
    "                   [91, 88, 64], [87, 134, 58], [102, 43, 37], \n",
    "                   [69, 96, 70], [73, 67, 43], [91, 88, 64], \n",
    "                   [87, 134, 58], [102, 43, 37], [69, 96, 70]], \n",
    "                  dtype='float32')\n",
    "\n",
    "# Targets (apples, oranges)\n",
    "targets = np.array([[56, 70], [81, 101], [119, 133], \n",
    "                    [22, 37], [103, 119], [56, 70], \n",
    "                    [81, 101], [119, 133], [22, 37], \n",
    "                    [103, 119], [56, 70], [81, 101], \n",
    "                    [119, 133], [22, 37], [103, 119]], \n",
    "                   dtype='float32')\n",
    "\n",
    "inputs = torch.from_numpy(inputs)\n",
    "targets = torch.from_numpy(targets)"
   ]
  },
  {
   "cell_type": "code",
   "execution_count": 19,
   "metadata": {},
   "outputs": [
    {
     "data": {
      "text/plain": [
       "torch.Size([15, 3])"
      ]
     },
     "execution_count": 19,
     "metadata": {},
     "output_type": "execute_result"
    }
   ],
   "source": [
    "inputs.shape"
   ]
  },
  {
   "cell_type": "code",
   "execution_count": 20,
   "metadata": {},
   "outputs": [
    {
     "data": {
      "text/plain": [
       "torch.Size([15, 2])"
      ]
     },
     "execution_count": 20,
     "metadata": {},
     "output_type": "execute_result"
    }
   ],
   "source": [
    "targets.shape"
   ]
  },
  {
   "cell_type": "code",
   "execution_count": 21,
   "metadata": {},
   "outputs": [],
   "source": [
    "from torch.utils.data import TensorDataset"
   ]
  },
  {
   "cell_type": "code",
   "execution_count": 22,
   "metadata": {},
   "outputs": [],
   "source": [
    "#Define dataset\n",
    "train_ds = TensorDataset(inputs, targets)"
   ]
  },
  {
   "cell_type": "code",
   "execution_count": 23,
   "metadata": {},
   "outputs": [
    {
     "data": {
      "text/plain": [
       "(tensor([[ 73.,  67.,  43.],\n",
       "         [ 91.,  88.,  64.],\n",
       "         [ 87., 134.,  58.]]),\n",
       " tensor([[ 56.,  70.],\n",
       "         [ 81., 101.],\n",
       "         [119., 133.]]))"
      ]
     },
     "execution_count": 23,
     "metadata": {},
     "output_type": "execute_result"
    }
   ],
   "source": [
    "train_ds[:3]"
   ]
  },
  {
   "cell_type": "code",
   "execution_count": 24,
   "metadata": {},
   "outputs": [],
   "source": [
    "#dataloader: enables split data into batches, shuffle, random sampling, etc\n",
    "from torch.utils.data import DataLoader"
   ]
  },
  {
   "cell_type": "code",
   "execution_count": 25,
   "metadata": {},
   "outputs": [],
   "source": [
    "#define dataloader\n",
    "batch_size = 5\n",
    "train_dl = DataLoader(dataset=train_ds, batch_size=batch_size, shuffle=True)"
   ]
  },
  {
   "cell_type": "code",
   "execution_count": 26,
   "metadata": {},
   "outputs": [
    {
     "name": "stdout",
     "output_type": "stream",
     "text": [
      "tensor([[69., 96., 70.],\n",
      "        [69., 96., 70.],\n",
      "        [91., 88., 64.],\n",
      "        [73., 67., 43.],\n",
      "        [91., 88., 64.]])\n",
      "tensor([[103., 119.],\n",
      "        [103., 119.],\n",
      "        [ 81., 101.],\n",
      "        [ 56.,  70.],\n",
      "        [ 81., 101.]])\n",
      "tensor([[ 87., 134.,  58.],\n",
      "        [ 87., 134.,  58.],\n",
      "        [102.,  43.,  37.],\n",
      "        [ 73.,  67.,  43.],\n",
      "        [ 87., 134.,  58.]])\n",
      "tensor([[119., 133.],\n",
      "        [119., 133.],\n",
      "        [ 22.,  37.],\n",
      "        [ 56.,  70.],\n",
      "        [119., 133.]])\n",
      "tensor([[ 91.,  88.,  64.],\n",
      "        [102.,  43.,  37.],\n",
      "        [ 73.,  67.,  43.],\n",
      "        [102.,  43.,  37.],\n",
      "        [ 69.,  96.,  70.]])\n",
      "tensor([[ 81., 101.],\n",
      "        [ 22.,  37.],\n",
      "        [ 56.,  70.],\n",
      "        [ 22.,  37.],\n",
      "        [103., 119.]])\n"
     ]
    }
   ],
   "source": [
    "for xb, yb in train_dl:\n",
    "    print(xb)\n",
    "    print(yb)"
   ]
  },
  {
   "cell_type": "markdown",
   "metadata": {},
   "source": [
    "## nn.Linear"
   ]
  },
  {
   "cell_type": "code",
   "execution_count": 27,
   "metadata": {},
   "outputs": [],
   "source": [
    "model = nn.Linear(in_features=3, out_features=2) #This has bias=True by default"
   ]
  },
  {
   "cell_type": "code",
   "execution_count": 28,
   "metadata": {},
   "outputs": [
    {
     "name": "stdout",
     "output_type": "stream",
     "text": [
      "Weights:  Parameter containing:\n",
      "tensor([[ 0.2187,  0.0082,  0.4136],\n",
      "        [-0.5206, -0.4418, -0.3747]], requires_grad=True)\n",
      "Biases: Parameter containing:\n",
      "tensor([0.2325, 0.0422], requires_grad=True)\n"
     ]
    }
   ],
   "source": [
    "print(\"Weights: \", model.weight)\n",
    "print(\"Biases:\", model.bias)"
   ]
  },
  {
   "cell_type": "code",
   "execution_count": 29,
   "metadata": {},
   "outputs": [
    {
     "data": {
      "text/plain": [
       "[Parameter containing:\n",
       " tensor([[ 0.2187,  0.0082,  0.4136],\n",
       "         [-0.5206, -0.4418, -0.3747]], requires_grad=True),\n",
       " Parameter containing:\n",
       " tensor([0.2325, 0.0422], requires_grad=True)]"
      ]
     },
     "execution_count": 29,
     "metadata": {},
     "output_type": "execute_result"
    }
   ],
   "source": [
    "list(model.parameters())"
   ]
  },
  {
   "cell_type": "code",
   "execution_count": 30,
   "metadata": {},
   "outputs": [
    {
     "name": "stdout",
     "output_type": "stream",
     "text": [
      "tensor([[  34.5332,  -83.6737],\n",
      "        [  47.3278, -110.1906],\n",
      "        [  44.3477, -126.1839],\n",
      "        [  38.1988,  -85.9190],\n",
      "        [  45.0625, -104.5203],\n",
      "        [  34.5332,  -83.6737],\n",
      "        [  47.3278, -110.1906],\n",
      "        [  44.3477, -126.1839],\n",
      "        [  38.1988,  -85.9190],\n",
      "        [  45.0625, -104.5203],\n",
      "        [  34.5332,  -83.6737],\n",
      "        [  47.3278, -110.1906],\n",
      "        [  44.3477, -126.1839],\n",
      "        [  38.1988,  -85.9190],\n",
      "        [  45.0625, -104.5203]], grad_fn=<AddmmBackward>)\n"
     ]
    }
   ],
   "source": [
    "preds = model(inputs)\n",
    "print(preds)"
   ]
  },
  {
   "cell_type": "markdown",
   "metadata": {},
   "source": [
    "## Loss Function"
   ]
  },
  {
   "cell_type": "code",
   "execution_count": 31,
   "metadata": {},
   "outputs": [],
   "source": [
    "import torch.nn.functional as F"
   ]
  },
  {
   "cell_type": "code",
   "execution_count": 32,
   "metadata": {},
   "outputs": [],
   "source": [
    "loss_fn = F.mse_loss"
   ]
  },
  {
   "cell_type": "code",
   "execution_count": 33,
   "metadata": {},
   "outputs": [],
   "source": [
    "loss = loss_fn(model(inputs), targets)"
   ]
  },
  {
   "cell_type": "code",
   "execution_count": 34,
   "metadata": {},
   "outputs": [
    {
     "data": {
      "text/plain": [
       "21125.052734375"
      ]
     },
     "execution_count": 34,
     "metadata": {},
     "output_type": "execute_result"
    }
   ],
   "source": [
    "loss.item()"
   ]
  },
  {
   "cell_type": "code",
   "execution_count": 35,
   "metadata": {},
   "outputs": [
    {
     "name": "stdout",
     "output_type": "stream",
     "text": [
      "tensor(21125.0527, grad_fn=<MseLossBackward>)\n"
     ]
    }
   ],
   "source": [
    "print(loss)"
   ]
  },
  {
   "cell_type": "markdown",
   "metadata": {},
   "source": [
    "## Optimizer"
   ]
  },
  {
   "cell_type": "code",
   "execution_count": 36,
   "metadata": {},
   "outputs": [],
   "source": [
    "opt = torch.optim.SGD(model.parameters(), lr=1e-5)"
   ]
  },
  {
   "cell_type": "markdown",
   "metadata": {},
   "source": [
    "## Train the model using following steps:\n",
    "1. Generate predictions\n",
    "2. Calculate Loss\n",
    "3. Comptute grads w.r.t weights and biases\n",
    "4. Adjust weights and biases\n",
    "5. Reset gradients to zero"
   ]
  },
  {
   "cell_type": "code",
   "execution_count": 37,
   "metadata": {},
   "outputs": [],
   "source": [
    "def fit(train_dl, model, loss_fn, optim, num_epochs):\n",
    "    \n",
    "    for epoch in range(num_epochs):\n",
    "        \n",
    "        #Train in batches of data\n",
    "        for xb, yb in train_dl:\n",
    "            \n",
    "            # 1.Generate predictions\n",
    "            preds = model(xb)\n",
    "            \n",
    "            # 2.Calculate loss\n",
    "            loss = loss_fn(preds, yb)\n",
    "            \n",
    "            # 3.Compute grads. w.r.t weights and biases\n",
    "            loss.backward()\n",
    "            \n",
    "            # 4.Update parameters\n",
    "            opt.step()\n",
    "            \n",
    "            #5. Reset grads to zero\n",
    "            \n",
    "            opt.zero_grad()\n",
    "            \n",
    "        #Print progress\n",
    "        if((epoch+1)%10==0):\n",
    "            print(\"Epoch [{} / {}], Loss: {:.4f}\".format(epoch+1, num_epochs, loss.item()))        "
   ]
  },
  {
   "cell_type": "code",
   "execution_count": 38,
   "metadata": {},
   "outputs": [
    {
     "name": "stdout",
     "output_type": "stream",
     "text": [
      "Epoch [10 / 100], Loss: 378.7920\n",
      "Epoch [20 / 100], Loss: 432.6642\n",
      "Epoch [30 / 100], Loss: 297.9373\n",
      "Epoch [40 / 100], Loss: 220.0924\n",
      "Epoch [50 / 100], Loss: 136.6962\n",
      "Epoch [60 / 100], Loss: 56.1517\n",
      "Epoch [70 / 100], Loss: 64.8538\n",
      "Epoch [80 / 100], Loss: 34.7764\n",
      "Epoch [90 / 100], Loss: 51.8446\n",
      "Epoch [100 / 100], Loss: 16.1510\n"
     ]
    }
   ],
   "source": [
    "fit(train_dl, model, loss_fn, opt, 100)"
   ]
  },
  {
   "cell_type": "code",
   "execution_count": 39,
   "metadata": {},
   "outputs": [],
   "source": [
    "preds = model(inputs)"
   ]
  },
  {
   "cell_type": "code",
   "execution_count": 40,
   "metadata": {},
   "outputs": [
    {
     "name": "stdout",
     "output_type": "stream",
     "text": [
      "tensor([[ 58.4191,  71.5572],\n",
      "        [ 82.6463,  97.8096],\n",
      "        [115.5395, 137.3347],\n",
      "        [ 28.2159,  43.9456],\n",
      "        [ 98.5769, 110.1360],\n",
      "        [ 58.4191,  71.5572],\n",
      "        [ 82.6463,  97.8096],\n",
      "        [115.5395, 137.3347],\n",
      "        [ 28.2159,  43.9456],\n",
      "        [ 98.5769, 110.1360],\n",
      "        [ 58.4191,  71.5572],\n",
      "        [ 82.6463,  97.8096],\n",
      "        [115.5395, 137.3347],\n",
      "        [ 28.2159,  43.9456],\n",
      "        [ 98.5769, 110.1360]], grad_fn=<AddmmBackward>) \n",
      " tensor([[ 56.,  70.],\n",
      "        [ 81., 101.],\n",
      "        [119., 133.],\n",
      "        [ 22.,  37.],\n",
      "        [103., 119.],\n",
      "        [ 56.,  70.],\n",
      "        [ 81., 101.],\n",
      "        [119., 133.],\n",
      "        [ 22.,  37.],\n",
      "        [103., 119.],\n",
      "        [ 56.,  70.],\n",
      "        [ 81., 101.],\n",
      "        [119., 133.],\n",
      "        [ 22.,  37.],\n",
      "        [103., 119.]])\n"
     ]
    }
   ],
   "source": [
    "print(preds, \"\\n\", targets)"
   ]
  }
 ],
 "metadata": {
  "kernelspec": {
   "display_name": "Python 3",
   "language": "python",
   "name": "python3"
  },
  "language_info": {
   "codemirror_mode": {
    "name": "ipython",
    "version": 3
   },
   "file_extension": ".py",
   "mimetype": "text/x-python",
   "name": "python",
   "nbconvert_exporter": "python",
   "pygments_lexer": "ipython3",
   "version": "3.7.7"
  }
 },
 "nbformat": 4,
 "nbformat_minor": 2
}
